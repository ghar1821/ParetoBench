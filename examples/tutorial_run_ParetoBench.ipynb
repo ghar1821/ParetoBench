{
 "cells": [
  {
   "cell_type": "markdown",
   "metadata": {},
   "source": [
    "# Comparing algorithms with ParetoBench"
   ]
  },
  {
   "cell_type": "markdown",
   "metadata": {},
   "source": [
    "In this tutorial, we will compare the performance of 2 algorithms, ChronoClust and FlowSOM on 2 mass cytometry datasets, Levine13 and Levine32, using 4 metrics, F1-score, ARI, Accuracy, and V-measure."
   ]
  },
  {
   "cell_type": "markdown",
   "metadata": {},
   "source": [
    "## Importing"
   ]
  },
  {
   "cell_type": "markdown",
   "metadata": {},
   "source": [
    "If you have not downloaded and installed ParetoBench, please go to our github page and download ParetoBench (https://github.com/ghar1821/ParetoBench).\n",
    "Unzip it to a folder and run the setup.py file (python3 setup.py install).\n",
    "\n",
    "Then run the next cell to import ParetoBench"
   ]
  },
  {
   "cell_type": "code",
   "execution_count": 1,
   "metadata": {
    "scrolled": true
   },
   "outputs": [],
   "source": [
    "import ParetoBench"
   ]
  },
  {
   "cell_type": "markdown",
   "metadata": {},
   "source": [
    "## Specifying details for the comparison study"
   ]
  },
  {
   "cell_type": "markdown",
   "metadata": {},
   "source": [
    "The main function which will compare the algorithms performance is call \"compare\".\n",
    "For this to work, there are a few things you need to first specify: \n",
    "\n",
    "* Metrics used for comparison\n",
    "* Dataset names\n",
    "* Algorithm names\n",
    "* Location where the quality of clustering solutions are stored\n",
    "\n",
    "The first 3 are rather self explanatory. \n",
    "The last one is the directory containing all the csv files storing the quality of algorithm's clusterings.\n",
    "Let's explore this in the next section."
   ]
  },
  {
   "cell_type": "markdown",
   "metadata": {},
   "source": [
    "### Data folder"
   ]
  },
  {
   "cell_type": "markdown",
   "metadata": {},
   "source": [
    "Here, the folder containing the data is stored under ~/Documents/phd/code/ParetoBench/examples/data.\n",
    "Let's inspect its content."
   ]
  },
  {
   "cell_type": "code",
   "execution_count": 2,
   "metadata": {},
   "outputs": [
    {
     "data": {
      "text/plain": [
       "['flowsom', 'chronoclust']"
      ]
     },
     "execution_count": 2,
     "metadata": {},
     "output_type": "execute_result"
    }
   ],
   "source": [
    "import os\n",
    "data_dir = '/Users/givanna/Documents/phd/code/ParetoBench/examples/data'\n",
    "os.listdir(data_dir)"
   ]
  },
  {
   "cell_type": "markdown",
   "metadata": {},
   "source": [
    "As you can see we have 2 folders, each named after the algorithm we want to compare. \n",
    "Let's look into what's inside flowsom folder."
   ]
  },
  {
   "cell_type": "code",
   "execution_count": 3,
   "metadata": {},
   "outputs": [
    {
     "data": {
      "text/plain": [
       "['Levine32_scores.csv', 'Levine13_scores.csv']"
      ]
     },
     "execution_count": 3,
     "metadata": {},
     "output_type": "execute_result"
    }
   ],
   "source": [
    "os.listdir('{}/flowsom'.format(data_dir))"
   ]
  },
  {
   "cell_type": "markdown",
   "metadata": {},
   "source": [
    "We have 2 datasets, and thus we need to have 2 files in the flowsom ***and chronoclust*** folder.\n",
    "Each file must contain the quality of flowsom's clustering solutions for a given dataset."
   ]
  },
  {
   "cell_type": "code",
   "execution_count": 4,
   "metadata": {},
   "outputs": [
    {
     "data": {
      "text/html": [
       "<div>\n",
       "<style scoped>\n",
       "    .dataframe tbody tr th:only-of-type {\n",
       "        vertical-align: middle;\n",
       "    }\n",
       "\n",
       "    .dataframe tbody tr th {\n",
       "        vertical-align: top;\n",
       "    }\n",
       "\n",
       "    .dataframe thead th {\n",
       "        text-align: right;\n",
       "    }\n",
       "</style>\n",
       "<table border=\"1\" class=\"dataframe\">\n",
       "  <thead>\n",
       "    <tr style=\"text-align: right;\">\n",
       "      <th></th>\n",
       "      <th>param</th>\n",
       "      <th>seed</th>\n",
       "      <th>f1</th>\n",
       "      <th>accuracy</th>\n",
       "      <th>ari</th>\n",
       "      <th>v_measure</th>\n",
       "    </tr>\n",
       "  </thead>\n",
       "  <tbody>\n",
       "    <tr>\n",
       "      <th>0</th>\n",
       "      <td>66</td>\n",
       "      <td>32</td>\n",
       "      <td>0.543953</td>\n",
       "      <td>0.706346</td>\n",
       "      <td>0.647011</td>\n",
       "      <td>0.820897</td>\n",
       "    </tr>\n",
       "    <tr>\n",
       "      <th>1</th>\n",
       "      <td>72</td>\n",
       "      <td>32</td>\n",
       "      <td>0.775326</td>\n",
       "      <td>0.874952</td>\n",
       "      <td>0.878114</td>\n",
       "      <td>0.875523</td>\n",
       "    </tr>\n",
       "    <tr>\n",
       "      <th>2</th>\n",
       "      <td>99</td>\n",
       "      <td>32</td>\n",
       "      <td>0.683904</td>\n",
       "      <td>0.900896</td>\n",
       "      <td>0.916248</td>\n",
       "      <td>0.892725</td>\n",
       "    </tr>\n",
       "    <tr>\n",
       "      <th>3</th>\n",
       "      <td>2</td>\n",
       "      <td>32</td>\n",
       "      <td>0.692430</td>\n",
       "      <td>0.849727</td>\n",
       "      <td>0.867393</td>\n",
       "      <td>0.862226</td>\n",
       "    </tr>\n",
       "    <tr>\n",
       "      <th>4</th>\n",
       "      <td>3</td>\n",
       "      <td>32</td>\n",
       "      <td>0.583933</td>\n",
       "      <td>0.680632</td>\n",
       "      <td>0.631036</td>\n",
       "      <td>0.795324</td>\n",
       "    </tr>\n",
       "  </tbody>\n",
       "</table>\n",
       "</div>"
      ],
      "text/plain": [
       "   param  seed        f1  accuracy       ari  v_measure\n",
       "0     66    32  0.543953  0.706346  0.647011   0.820897\n",
       "1     72    32  0.775326  0.874952  0.878114   0.875523\n",
       "2     99    32  0.683904  0.900896  0.916248   0.892725\n",
       "3      2    32  0.692430  0.849727  0.867393   0.862226\n",
       "4      3    32  0.583933  0.680632  0.631036   0.795324"
      ]
     },
     "execution_count": 4,
     "metadata": {},
     "output_type": "execute_result"
    }
   ],
   "source": [
    "import pandas as pd\n",
    "dat = pd.read_csv('{}/flowsom/Levine32_scores.csv'.format(data_dir))\n",
    "dat.head()"
   ]
  },
  {
   "cell_type": "markdown",
   "metadata": {},
   "source": [
    "This is what the score file looks like. \n",
    "Each row represents a clustering solution produced by flowsom.\n",
    "Each column (f1, accuracy, ari, v_measure) indicates the metrics used to evaluate the clustering solutions.\n",
    "Param column denotes the parameter id of that clustering solution, and seed is the seed used to generate that clustering solution.\n",
    "The seed column here is unique to flowsom. \n",
    "If we look at the chronoclust's score, we won't have this."
   ]
  },
  {
   "cell_type": "code",
   "execution_count": 5,
   "metadata": {},
   "outputs": [
    {
     "data": {
      "text/html": [
       "<div>\n",
       "<style scoped>\n",
       "    .dataframe tbody tr th:only-of-type {\n",
       "        vertical-align: middle;\n",
       "    }\n",
       "\n",
       "    .dataframe tbody tr th {\n",
       "        vertical-align: top;\n",
       "    }\n",
       "\n",
       "    .dataframe thead th {\n",
       "        text-align: right;\n",
       "    }\n",
       "</style>\n",
       "<table border=\"1\" class=\"dataframe\">\n",
       "  <thead>\n",
       "    <tr style=\"text-align: right;\">\n",
       "      <th></th>\n",
       "      <th>param</th>\n",
       "      <th>accuracy</th>\n",
       "      <th>ari</th>\n",
       "      <th>f1</th>\n",
       "      <th>v_measure</th>\n",
       "    </tr>\n",
       "  </thead>\n",
       "  <tbody>\n",
       "    <tr>\n",
       "      <th>0</th>\n",
       "      <td>0</td>\n",
       "      <td>0.280417</td>\n",
       "      <td>0.007546</td>\n",
       "      <td>0.045540</td>\n",
       "      <td>0.022792</td>\n",
       "    </tr>\n",
       "    <tr>\n",
       "      <th>1</th>\n",
       "      <td>1</td>\n",
       "      <td>0.451231</td>\n",
       "      <td>0.349001</td>\n",
       "      <td>0.094750</td>\n",
       "      <td>0.451791</td>\n",
       "    </tr>\n",
       "    <tr>\n",
       "      <th>2</th>\n",
       "      <td>2</td>\n",
       "      <td>0.454705</td>\n",
       "      <td>0.348051</td>\n",
       "      <td>0.094258</td>\n",
       "      <td>0.456318</td>\n",
       "    </tr>\n",
       "    <tr>\n",
       "      <th>3</th>\n",
       "      <td>3</td>\n",
       "      <td>0.424269</td>\n",
       "      <td>0.157928</td>\n",
       "      <td>0.167429</td>\n",
       "      <td>0.336469</td>\n",
       "    </tr>\n",
       "    <tr>\n",
       "      <th>4</th>\n",
       "      <td>4</td>\n",
       "      <td>0.818225</td>\n",
       "      <td>0.737014</td>\n",
       "      <td>0.426580</td>\n",
       "      <td>0.769500</td>\n",
       "    </tr>\n",
       "  </tbody>\n",
       "</table>\n",
       "</div>"
      ],
      "text/plain": [
       "   param  accuracy       ari        f1  v_measure\n",
       "0      0  0.280417  0.007546  0.045540   0.022792\n",
       "1      1  0.451231  0.349001  0.094750   0.451791\n",
       "2      2  0.454705  0.348051  0.094258   0.456318\n",
       "3      3  0.424269  0.157928  0.167429   0.336469\n",
       "4      4  0.818225  0.737014  0.426580   0.769500"
      ]
     },
     "execution_count": 5,
     "metadata": {},
     "output_type": "execute_result"
    }
   ],
   "source": [
    "dat = pd.read_csv('{}/chronoclust/Levine32_scores.csv'.format(data_dir))\n",
    "dat.head()"
   ]
  },
  {
   "cell_type": "markdown",
   "metadata": {},
   "source": [
    "Instead we only have the 4 metrics and the parameter column. \n",
    "This is the bare minimum required for ParetoBench to function.\n",
    "If you require the parameter value for each solution, by all means add them in (just as the case with flowsom above). \n",
    "ParetoBench will simply ignore it."
   ]
  },
  {
   "cell_type": "markdown",
   "metadata": {},
   "source": [
    "Now, all of that hopefully make sense.\n",
    "Let's define the parameters for ParetoBench."
   ]
  },
  {
   "cell_type": "markdown",
   "metadata": {},
   "source": [
    "### ParetoBench parameter definitions"
   ]
  },
  {
   "cell_type": "code",
   "execution_count": 6,
   "metadata": {},
   "outputs": [],
   "source": [
    "metrics = ['accuracy', 'ari', 'f1', 'v_measure']\n",
    "datasets = ['Levine13', 'Levine32']\n",
    "algorithms = ['chronoclust', 'flowsom']\n",
    "datadir = data_dir\n",
    "savedir = '/Users/givanna/Documents/phd/code/ParetoBench/examples/pareto_comparison'"
   ]
  },
  {
   "cell_type": "markdown",
   "metadata": {},
   "source": [
    "***Very important!***\n",
    "\n",
    "The metrics name must match the columns in the score files.\n",
    "\n",
    "The datasets name must match the score filename (before the _scores.csv)\n",
    "\n",
    "The algorithms name must match the folder name storing the score files.\n",
    "\n",
    "savedir is basically the location where ParetoBench will output the result. \n",
    "\n",
    "Now let's run it."
   ]
  },
  {
   "cell_type": "markdown",
   "metadata": {},
   "source": [
    "## Run ParetoBench"
   ]
  },
  {
   "cell_type": "code",
   "execution_count": 7,
   "metadata": {},
   "outputs": [],
   "source": [
    "ParetoBench.compare(\n",
    "    metrics = metrics,\n",
    "    datasets = datasets,\n",
    "    algorithms = algorithms,\n",
    "    datadir = datadir,\n",
    "    savedir = savedir\n",
    ")"
   ]
  },
  {
   "cell_type": "markdown",
   "metadata": {},
   "source": [
    "You won't see anything returned, which is normal as ParetoBench store the results as csv files in savedir.\n",
    "Let's look at the result now."
   ]
  },
  {
   "cell_type": "markdown",
   "metadata": {},
   "source": [
    "## ParetoBench results"
   ]
  },
  {
   "cell_type": "code",
   "execution_count": 13,
   "metadata": {},
   "outputs": [
    {
     "data": {
      "text/plain": [
       "['proportion_solutions_per_front_Levine13.csv',\n",
       " 'proportion_solutions_per_front_all_datasets.csv',\n",
       " 'summary_all_datasets.csv',\n",
       " 'front_positions_Levine13.csv',\n",
       " 'ks_all_datasets.csv',\n",
       " '.DS_Store',\n",
       " 'summary_Levine13.csv',\n",
       " 'ks_Levine13.csv',\n",
       " 'front_positions_all_datasets.csv',\n",
       " 'summary_Levine32.csv',\n",
       " 'ks_Levine32.csv',\n",
       " 'proportion_solutions_per_front_Levine32.csv',\n",
       " 'front_positions_Levine32.csv']"
      ]
     },
     "execution_count": 13,
     "metadata": {},
     "output_type": "execute_result"
    }
   ],
   "source": [
    "os.listdir(savedir)"
   ]
  },
  {
   "cell_type": "markdown",
   "metadata": {},
   "source": [
    "We have 4 different types of csv files here:\n",
    "\n",
    "1. front_positions_XXX.csv: this shall show you the front positions (normalised or not) of each clustering solution. If XXX is all_datasets, then it's basically the concatenation of front positions for each dataset. Do note that this file is important if you are looking at the normalised front positions as it's normalised based on ***all datasets***, not ***not per dataset!***\n",
    "2. ks_XXX.csv: comparison of distribution of the normalised front positions using KS test.\n",
    "3. proportion_solutions_per_front_XXX.csv: the number of solutions (and thus proportion) contributed by each algorithm to each front position.\n",
    "4. summary_XXX.csv: handy single value summary data highlighting the proportion solutions from each algorithm residing on Pareto front, top 10% and 33% of the fronts.\n",
    "\n",
    "Let's look at each result in turn."
   ]
  },
  {
   "cell_type": "markdown",
   "metadata": {},
   "source": [
    "### Front_positions_XXX.csv"
   ]
  },
  {
   "cell_type": "code",
   "execution_count": 14,
   "metadata": {},
   "outputs": [
    {
     "data": {
      "text/html": [
       "<div>\n",
       "<style scoped>\n",
       "    .dataframe tbody tr th:only-of-type {\n",
       "        vertical-align: middle;\n",
       "    }\n",
       "\n",
       "    .dataframe tbody tr th {\n",
       "        vertical-align: top;\n",
       "    }\n",
       "\n",
       "    .dataframe thead th {\n",
       "        text-align: right;\n",
       "    }\n",
       "</style>\n",
       "<table border=\"1\" class=\"dataframe\">\n",
       "  <thead>\n",
       "    <tr style=\"text-align: right;\">\n",
       "      <th></th>\n",
       "      <th>FrontPosition</th>\n",
       "      <th>Param</th>\n",
       "      <th>Algorithm</th>\n",
       "      <th>accuracy</th>\n",
       "      <th>ari</th>\n",
       "      <th>f1</th>\n",
       "      <th>v_measure</th>\n",
       "      <th>accuracy_negate</th>\n",
       "      <th>ari_negate</th>\n",
       "      <th>f1_negate</th>\n",
       "      <th>v_measure_negate</th>\n",
       "      <th>NormalisedFrontPosition</th>\n",
       "    </tr>\n",
       "  </thead>\n",
       "  <tbody>\n",
       "    <tr>\n",
       "      <th>0</th>\n",
       "      <td>0</td>\n",
       "      <td>40</td>\n",
       "      <td>flowsom</td>\n",
       "      <td>0.872631</td>\n",
       "      <td>0.868641</td>\n",
       "      <td>0.531207</td>\n",
       "      <td>0.851411</td>\n",
       "      <td>-0.872631</td>\n",
       "      <td>-0.868641</td>\n",
       "      <td>-0.531207</td>\n",
       "      <td>-0.851411</td>\n",
       "      <td>0.0</td>\n",
       "    </tr>\n",
       "    <tr>\n",
       "      <th>1</th>\n",
       "      <td>0</td>\n",
       "      <td>72</td>\n",
       "      <td>flowsom</td>\n",
       "      <td>0.871053</td>\n",
       "      <td>0.858800</td>\n",
       "      <td>0.559864</td>\n",
       "      <td>0.845887</td>\n",
       "      <td>-0.871053</td>\n",
       "      <td>-0.858800</td>\n",
       "      <td>-0.559864</td>\n",
       "      <td>-0.845887</td>\n",
       "      <td>0.0</td>\n",
       "    </tr>\n",
       "    <tr>\n",
       "      <th>2</th>\n",
       "      <td>0</td>\n",
       "      <td>42</td>\n",
       "      <td>flowsom</td>\n",
       "      <td>0.869255</td>\n",
       "      <td>0.843614</td>\n",
       "      <td>0.577231</td>\n",
       "      <td>0.845941</td>\n",
       "      <td>-0.869255</td>\n",
       "      <td>-0.843614</td>\n",
       "      <td>-0.577231</td>\n",
       "      <td>-0.845941</td>\n",
       "      <td>0.0</td>\n",
       "    </tr>\n",
       "    <tr>\n",
       "      <th>3</th>\n",
       "      <td>0</td>\n",
       "      <td>83</td>\n",
       "      <td>flowsom</td>\n",
       "      <td>0.856582</td>\n",
       "      <td>0.850503</td>\n",
       "      <td>0.573123</td>\n",
       "      <td>0.836222</td>\n",
       "      <td>-0.856582</td>\n",
       "      <td>-0.850503</td>\n",
       "      <td>-0.573123</td>\n",
       "      <td>-0.836222</td>\n",
       "      <td>0.0</td>\n",
       "    </tr>\n",
       "    <tr>\n",
       "      <th>4</th>\n",
       "      <td>0</td>\n",
       "      <td>64</td>\n",
       "      <td>flowsom</td>\n",
       "      <td>0.833768</td>\n",
       "      <td>0.848254</td>\n",
       "      <td>0.572200</td>\n",
       "      <td>0.843304</td>\n",
       "      <td>-0.833768</td>\n",
       "      <td>-0.848254</td>\n",
       "      <td>-0.572200</td>\n",
       "      <td>-0.843304</td>\n",
       "      <td>0.0</td>\n",
       "    </tr>\n",
       "  </tbody>\n",
       "</table>\n",
       "</div>"
      ],
      "text/plain": [
       "   FrontPosition  Param Algorithm  accuracy       ari        f1  v_measure  \\\n",
       "0              0     40   flowsom  0.872631  0.868641  0.531207   0.851411   \n",
       "1              0     72   flowsom  0.871053  0.858800  0.559864   0.845887   \n",
       "2              0     42   flowsom  0.869255  0.843614  0.577231   0.845941   \n",
       "3              0     83   flowsom  0.856582  0.850503  0.573123   0.836222   \n",
       "4              0     64   flowsom  0.833768  0.848254  0.572200   0.843304   \n",
       "\n",
       "   accuracy_negate  ari_negate  f1_negate  v_measure_negate  \\\n",
       "0        -0.872631   -0.868641  -0.531207         -0.851411   \n",
       "1        -0.871053   -0.858800  -0.559864         -0.845887   \n",
       "2        -0.869255   -0.843614  -0.577231         -0.845941   \n",
       "3        -0.856582   -0.850503  -0.573123         -0.836222   \n",
       "4        -0.833768   -0.848254  -0.572200         -0.843304   \n",
       "\n",
       "   NormalisedFrontPosition  \n",
       "0                      0.0  \n",
       "1                      0.0  \n",
       "2                      0.0  \n",
       "3                      0.0  \n",
       "4                      0.0  "
      ]
     },
     "execution_count": 14,
     "metadata": {},
     "output_type": "execute_result"
    }
   ],
   "source": [
    "dat = pd.read_csv(\"{}/front_positions_Levine13.csv\".format(savedir))\n",
    "dat.head()"
   ]
  },
  {
   "cell_type": "markdown",
   "metadata": {},
   "source": [
    "Here, you can see which solution reside in which front position, which parameter index it is, and what are the metric scores (and the negation used to compute the fronts).\n",
    "You can also see the normalised front position."
   ]
  },
  {
   "cell_type": "markdown",
   "metadata": {},
   "source": [
    "### ks_XXX.csv"
   ]
  },
  {
   "cell_type": "code",
   "execution_count": 15,
   "metadata": {},
   "outputs": [
    {
     "data": {
      "text/html": [
       "<div>\n",
       "<style scoped>\n",
       "    .dataframe tbody tr th:only-of-type {\n",
       "        vertical-align: middle;\n",
       "    }\n",
       "\n",
       "    .dataframe tbody tr th {\n",
       "        vertical-align: top;\n",
       "    }\n",
       "\n",
       "    .dataframe thead th {\n",
       "        text-align: right;\n",
       "    }\n",
       "</style>\n",
       "<table border=\"1\" class=\"dataframe\">\n",
       "  <thead>\n",
       "    <tr style=\"text-align: right;\">\n",
       "      <th></th>\n",
       "      <th>Algo1</th>\n",
       "      <th>Algo2</th>\n",
       "      <th>ks_dval</th>\n",
       "      <th>ks_pval</th>\n",
       "      <th>stat_sig(&lt;0.005)</th>\n",
       "    </tr>\n",
       "  </thead>\n",
       "  <tbody>\n",
       "    <tr>\n",
       "      <th>0</th>\n",
       "      <td>flowsom</td>\n",
       "      <td>chronoclust</td>\n",
       "      <td>0.78</td>\n",
       "      <td>2.485563e-30</td>\n",
       "      <td>True</td>\n",
       "    </tr>\n",
       "  </tbody>\n",
       "</table>\n",
       "</div>"
      ],
      "text/plain": [
       "     Algo1        Algo2  ks_dval       ks_pval  stat_sig(<0.005)\n",
       "0  flowsom  chronoclust     0.78  2.485563e-30              True"
      ]
     },
     "execution_count": 15,
     "metadata": {},
     "output_type": "execute_result"
    }
   ],
   "source": [
    "dat = pd.read_csv(\"{}/ks_Levine13.csv\".format(savedir))\n",
    "dat"
   ]
  },
  {
   "cell_type": "markdown",
   "metadata": {},
   "source": [
    "This is comparison of the normalised fronts distribution of the algorithms. \n",
    "You can see for this dataset, the difference is statistically significant."
   ]
  },
  {
   "cell_type": "markdown",
   "metadata": {},
   "source": [
    "### proportion_solutions_per_front_XXX.csv"
   ]
  },
  {
   "cell_type": "code",
   "execution_count": 17,
   "metadata": {},
   "outputs": [
    {
     "data": {
      "text/html": [
       "<div>\n",
       "<style scoped>\n",
       "    .dataframe tbody tr th:only-of-type {\n",
       "        vertical-align: middle;\n",
       "    }\n",
       "\n",
       "    .dataframe tbody tr th {\n",
       "        vertical-align: top;\n",
       "    }\n",
       "\n",
       "    .dataframe thead th {\n",
       "        text-align: right;\n",
       "    }\n",
       "</style>\n",
       "<table border=\"1\" class=\"dataframe\">\n",
       "  <thead>\n",
       "    <tr style=\"text-align: right;\">\n",
       "      <th></th>\n",
       "      <th>Algorithm</th>\n",
       "      <th>FrontPosition</th>\n",
       "      <th>count</th>\n",
       "      <th>num_solutions_total</th>\n",
       "      <th>proportion</th>\n",
       "    </tr>\n",
       "  </thead>\n",
       "  <tbody>\n",
       "    <tr>\n",
       "      <th>0</th>\n",
       "      <td>flowsom</td>\n",
       "      <td>0</td>\n",
       "      <td>6</td>\n",
       "      <td>100</td>\n",
       "      <td>0.06</td>\n",
       "    </tr>\n",
       "    <tr>\n",
       "      <th>1</th>\n",
       "      <td>chronoclust</td>\n",
       "      <td>0</td>\n",
       "      <td>2</td>\n",
       "      <td>100</td>\n",
       "      <td>0.02</td>\n",
       "    </tr>\n",
       "    <tr>\n",
       "      <th>2</th>\n",
       "      <td>flowsom</td>\n",
       "      <td>1</td>\n",
       "      <td>10</td>\n",
       "      <td>100</td>\n",
       "      <td>0.10</td>\n",
       "    </tr>\n",
       "    <tr>\n",
       "      <th>3</th>\n",
       "      <td>chronoclust</td>\n",
       "      <td>1</td>\n",
       "      <td>1</td>\n",
       "      <td>100</td>\n",
       "      <td>0.01</td>\n",
       "    </tr>\n",
       "    <tr>\n",
       "      <th>4</th>\n",
       "      <td>flowsom</td>\n",
       "      <td>2</td>\n",
       "      <td>8</td>\n",
       "      <td>100</td>\n",
       "      <td>0.08</td>\n",
       "    </tr>\n",
       "  </tbody>\n",
       "</table>\n",
       "</div>"
      ],
      "text/plain": [
       "     Algorithm  FrontPosition  count  num_solutions_total  proportion\n",
       "0      flowsom              0      6                  100        0.06\n",
       "1  chronoclust              0      2                  100        0.02\n",
       "2      flowsom              1     10                  100        0.10\n",
       "3  chronoclust              1      1                  100        0.01\n",
       "4      flowsom              2      8                  100        0.08"
      ]
     },
     "execution_count": 17,
     "metadata": {},
     "output_type": "execute_result"
    }
   ],
   "source": [
    "dat = pd.read_csv(\"{}/proportion_solutions_per_front_Levine13.csv\".format(savedir))\n",
    "dat.head()"
   ]
  },
  {
   "cell_type": "markdown",
   "metadata": {},
   "source": [
    "The number of solutions in each front for each algorithm. \n",
    "Proportion column presents the count as the proportion of number of solutions contributed by the algorithm for that dataset."
   ]
  },
  {
   "cell_type": "markdown",
   "metadata": {},
   "source": [
    "### summary_XXX.csv"
   ]
  },
  {
   "cell_type": "code",
   "execution_count": 18,
   "metadata": {},
   "outputs": [
    {
     "data": {
      "text/html": [
       "<div>\n",
       "<style scoped>\n",
       "    .dataframe tbody tr th:only-of-type {\n",
       "        vertical-align: middle;\n",
       "    }\n",
       "\n",
       "    .dataframe tbody tr th {\n",
       "        vertical-align: top;\n",
       "    }\n",
       "\n",
       "    .dataframe thead th {\n",
       "        text-align: right;\n",
       "    }\n",
       "</style>\n",
       "<table border=\"1\" class=\"dataframe\">\n",
       "  <thead>\n",
       "    <tr style=\"text-align: right;\">\n",
       "      <th></th>\n",
       "      <th>Algorithm</th>\n",
       "      <th>Proportion_front=0</th>\n",
       "      <th>num_solutions_total</th>\n",
       "      <th>Proportion_front&lt;=0.1</th>\n",
       "      <th>Proportion_front&lt;=0.33</th>\n",
       "    </tr>\n",
       "  </thead>\n",
       "  <tbody>\n",
       "    <tr>\n",
       "      <th>0</th>\n",
       "      <td>flowsom</td>\n",
       "      <td>0.06</td>\n",
       "      <td>100</td>\n",
       "      <td>0.31</td>\n",
       "      <td>0.87</td>\n",
       "    </tr>\n",
       "    <tr>\n",
       "      <th>1</th>\n",
       "      <td>chronoclust</td>\n",
       "      <td>0.02</td>\n",
       "      <td>100</td>\n",
       "      <td>0.04</td>\n",
       "      <td>0.13</td>\n",
       "    </tr>\n",
       "  </tbody>\n",
       "</table>\n",
       "</div>"
      ],
      "text/plain": [
       "     Algorithm  Proportion_front=0  num_solutions_total  \\\n",
       "0      flowsom                0.06                  100   \n",
       "1  chronoclust                0.02                  100   \n",
       "\n",
       "   Proportion_front<=0.1  Proportion_front<=0.33  \n",
       "0                   0.31                    0.87  \n",
       "1                   0.04                    0.13  "
      ]
     },
     "execution_count": 18,
     "metadata": {},
     "output_type": "execute_result"
    }
   ],
   "source": [
    "dat = pd.read_csv(\"{}/summary_Levine13.csv\".format(savedir))\n",
    "dat"
   ]
  },
  {
   "cell_type": "markdown",
   "metadata": {},
   "source": [
    "This file contains single summary value showing the proportion of solutions residing on Pareto front, top 10% and 33% of the fronts.\n",
    "These can be used to quickly infer which algorithm is superior.\n",
    "The one contributes the most solutions to Pareto front performed better while that with higher proportion of solutions in top 10% and/or 33% is less vulnerable to parameter variations.\n",
    "\n",
    "The top 10% and 33% can be changed to any value by specifying them (as an array of x/100) as fronts_limits argument for the compare function.\n",
    "For example, if you want 20% and 50% respectively, pass [0.2, 0.5] as fronts_limits argument to compare method."
   ]
  },
  {
   "cell_type": "markdown",
   "metadata": {},
   "source": [
    "## Interpretation"
   ]
  },
  {
   "cell_type": "markdown",
   "metadata": {},
   "source": [
    "In the manuscript, in addition to extracting the number of solutions in the pareto front for each dataset and algorithm, we draw up CDF plots and swarm plots to interpret the results.\n",
    "\n",
    "Now, the plots in the manuscript are drawn using ggplot in R, just because well it's prettier..\n",
    "You can use the same script if you want. \n",
    "They're stored under plots folder of ParetoBench directory in github.\n",
    "\n",
    "You can of course draw them using Seaborn, but I don't like how it looks. \n",
    "\n",
    "Refer to separate notebook on how to create those pretty visualisations."
   ]
  }
 ],
 "metadata": {
  "kernelspec": {
   "display_name": "Python 3",
   "language": "python",
   "name": "python3"
  },
  "language_info": {
   "codemirror_mode": {
    "name": "ipython",
    "version": 3
   },
   "file_extension": ".py",
   "mimetype": "text/x-python",
   "name": "python",
   "nbconvert_exporter": "python",
   "pygments_lexer": "ipython3",
   "version": "3.7.6"
  }
 },
 "nbformat": 4,
 "nbformat_minor": 4
}
